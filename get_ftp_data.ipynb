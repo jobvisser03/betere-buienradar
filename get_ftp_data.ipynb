{
 "cells": [
  {
   "cell_type": "code",
   "execution_count": 1,
   "metadata": {},
   "outputs": [],
   "source": [
    "import datetime\n",
    "import ftplib\n",
    "from pathlib import Path\n",
    "import pandas as pd"
   ]
  },
  {
   "cell_type": "code",
   "execution_count": 11,
   "metadata": {},
   "outputs": [
    {
     "data": {
      "text/plain": [
       "'230 login accepted'"
      ]
     },
     "execution_count": 11,
     "metadata": {},
     "output_type": "execute_result"
    },
    {
     "data": {
      "text/plain": [
       "'250 CWD command successful'"
      ]
     },
     "execution_count": 11,
     "metadata": {},
     "output_type": "execute_result"
    },
    {
     "data": {
      "text/plain": [
       "'226 Transfer complete'"
      ]
     },
     "execution_count": 11,
     "metadata": {},
     "output_type": "execute_result"
    },
    {
     "data": {
      "text/plain": [
       "'221 goodbye'"
      ]
     },
     "execution_count": 11,
     "metadata": {},
     "output_type": "execute_result"
    }
   ],
   "source": [
    "now = datetime.datetime.utcnow()\n",
    "today = now.strftime(\"%Y/%m/%d\")\n",
    "ftp_path = f'/download/nl_rdr_data_rtcor_5m/1.0/noversion/{today}'\n",
    "data_dir = Path(\"data\")\n",
    "\n",
    "ftp = ftplib.FTP(\"data.knmi.nl\") \n",
    "ftp.login() \n",
    "ftp.cwd(ftp_path)\n",
    "ftp_files = ftp.nlst()\n",
    "filename = sorted(ftp_files)[-1]\n",
    "download_path = (data_dir/filename)\n",
    "ftp.retrbinary(\"RETR \" + filename, open(download_path,\"wb\").write)\n",
    "ftp.quit()"
   ]
  },
  {
   "cell_type": "code",
   "execution_count": 24,
   "metadata": {},
   "outputs": [],
   "source": [
    "t = pd.HDFStore(\"data/RAD_NL25_RAC_RT_1855.h5\",'r')"
   ]
  },
  {
   "cell_type": "code",
   "execution_count": 30,
   "metadata": {},
   "outputs": [
    {
     "data": {
      "text/plain": [
       "[('',\n",
       "  ['geographic',\n",
       "   'image1',\n",
       "   'overview',\n",
       "   'radar1',\n",
       "   'radar2',\n",
       "   'radar3',\n",
       "   'radar4',\n",
       "   'radar5',\n",
       "   'radar6'],\n",
       "  []),\n",
       " ('/geographic', ['map_projection'], []),\n",
       " ('/image1', ['calibration', 'statistics'], []),\n",
       " ('/overview', [], []),\n",
       " ('/radar1', [], []),\n",
       " ('/radar2', [], []),\n",
       " ('/radar3', [], []),\n",
       " ('/radar4', [], []),\n",
       " ('/radar5', [], []),\n",
       " ('/radar6', [], []),\n",
       " ('/image1/calibration', [], []),\n",
       " ('/image1/statistics', [], []),\n",
       " ('/geographic/map_projection', [], [])]"
      ]
     },
     "execution_count": 30,
     "metadata": {},
     "output_type": "execute_result"
    }
   ],
   "source": [
    "list(t.walk())"
   ]
  },
  {
   "cell_type": "code",
   "execution_count": 8,
   "metadata": {},
   "outputs": [
    {
     "name": "stdout",
     "output_type": "stream",
     "text": [
      "Collecting h5py\n",
      "\u001b[?25l  Downloading https://files.pythonhosted.org/packages/9d/4f/46dbeea4aee767e15725950b6aac2c56c4eff9e5044886aa7ef932319476/h5py-2.10.0-cp38-cp38-manylinux1_x86_64.whl (2.9MB)\n",
      "\u001b[K     |████████████████████████████████| 2.9MB 2.8MB/s eta 0:00:01\n",
      "\u001b[?25hRequirement already satisfied: six in /home/simon/.cache/pypoetry/virtualenvs/betere-buienradar-bFJLGgEC-py3.8/lib/python3.8/site-packages (from h5py) (1.14.0)\n",
      "Requirement already satisfied: numpy>=1.7 in /home/simon/.cache/pypoetry/virtualenvs/betere-buienradar-bFJLGgEC-py3.8/lib/python3.8/site-packages (from h5py) (1.18.2)\n",
      "Installing collected packages: h5py\n",
      "Successfully installed h5py-2.10.0\n",
      "\u001b[33mWARNING: You are using pip version 19.2.3, however version 20.0.2 is available.\n",
      "You should consider upgrading via the 'pip install --upgrade pip' command.\u001b[0m\n"
     ]
    }
   ],
   "source": [
    "!pip install h5py"
   ]
  },
  {
   "cell_type": "code",
   "execution_count": 86,
   "metadata": {},
   "outputs": [],
   "source": [
    "import h5py\n",
    "\n",
    "h5 = h5py.File(\"data/RAD_NL25_RAC_RT_1855.h5\",'r')"
   ]
  },
  {
   "cell_type": "code",
   "execution_count": null,
   "metadata": {},
   "outputs": [],
   "source": [
    "g = h5[\"image1/image_data\"]"
   ]
  }
 ],
 "metadata": {
  "jupytext": {
   "formats": "ipynb,py:percent"
  },
  "kernelspec": {
   "display_name": "Python 3",
   "language": "python",
   "name": "python3"
  },
  "language_info": {
   "codemirror_mode": {
    "name": "ipython",
    "version": 3
   },
   "file_extension": ".py",
   "mimetype": "text/x-python",
   "name": "python",
   "nbconvert_exporter": "python",
   "pygments_lexer": "ipython3",
   "version": "3.8.1"
  }
 },
 "nbformat": 4,
 "nbformat_minor": 4
}
