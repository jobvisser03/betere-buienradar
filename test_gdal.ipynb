{
 "cells": [
  {
   "cell_type": "code",
   "execution_count": null,
   "metadata": {},
   "outputs": [],
   "source": [
    "from osgeo import gdal"
   ]
  },
  {
   "cell_type": "code",
   "execution_count": null,
   "metadata": {},
   "outputs": [],
   "source": [
    "data = gdal.Open(\"RAD_NL25_RAC_RT_1340.h5\")"
   ]
  },
  {
   "cell_type": "code",
   "execution_count": null,
   "metadata": {
    "scrolled": true
   },
   "outputs": [],
   "source": [
    "!gdalinfo RAD_NL25_RAC_RT_1340.h5"
   ]
  },
  {
   "cell_type": "code",
   "execution_count": null,
   "metadata": {},
   "outputs": [],
   "source": [
    "from mpl_toolkits.basemap import Basemap\n",
    "import osr, gdal\n",
    "import matplotlib.pyplot as plt\n",
    "import numpy as np"
   ]
  },
  {
   "cell_type": "code",
   "execution_count": null,
   "metadata": {},
   "outputs": [],
   "source": [
    "def convertXY(xy_source, inproj, outproj):\n",
    "    # function to convert coordinates\n",
    "\n",
    "    shape = xy_source[0,:,:].shape\n",
    "    size = xy_source[0,:,:].size\n",
    "\n",
    "    # the ct object takes and returns pairs of x,y, not 2d grids\n",
    "    # so the the grid needs to be reshaped (flattened) and back.\n",
    "    ct = osr.CoordinateTransformation(inproj, outproj)\n",
    "    xy_target = np.array(ct.TransformPoints(xy_source.reshape(2, size).T))\n",
    "\n",
    "    xx = xy_target[:,0].reshape(shape)\n",
    "    yy = xy_target[:,1].reshape(shape)\n",
    "\n",
    "    return xx, yy"
   ]
  },
  {
   "cell_type": "code",
   "execution_count": null,
   "metadata": {},
   "outputs": [],
   "source": [
    "# Read the data and metadata\n",
    "ds = gdal.Open(r'RAD_NL25_RAC_RT_1340.h5')\n",
    "\n",
    "data = ds.ReadAsArray()\n",
    "gt = ds.GetGeoTransform()\n",
    "proj = ds.GetProjection()\n",
    "\n",
    "xres = gt[1]\n",
    "yres = gt[5]\n",
    "\n",
    "# get the edge coordinates and add half the resolution \n",
    "# to go to center coordinates\n",
    "xmin = gt[0] + xres * 0.5\n",
    "xmax = gt[0] + (xres * ds.RasterXSize) - xres * 0.5\n",
    "ymin = gt[3] + (yres * ds.RasterYSize) + yres * 0.5\n",
    "ymax = gt[3] - yres * 0.5\n",
    "\n",
    "ds = None\n",
    "\n",
    "# create a grid of xy coordinates in the original projection\n",
    "xy_source = np.mgrid[xmin:xmax+xres:xres, ymax+yres:ymin:yres]"
   ]
  },
  {
   "cell_type": "code",
   "execution_count": null,
   "metadata": {},
   "outputs": [],
   "source": [
    "# Create the figure and basemap object\n",
    "fig = plt.figure(figsize=(12, 6))\n",
    "m = Basemap(projection='robin', lon_0=0, resolution='c')\n",
    "\n",
    "# Create the projection objects for the convertion\n",
    "# original (Albers)\n",
    "inproj = osr.SpatialReference()\n",
    "inproj.ImportFromWkt(proj)\n",
    "\n",
    "# Get the target projection from the basemap object\n",
    "outproj = osr.SpatialReference()\n",
    "outproj.ImportFromProj4(m.proj4string)\n",
    "\n",
    "# Convert from source projection to basemap projection\n",
    "xx, yy = convertXY(xy_source, inproj, outproj)\n",
    "\n",
    "# plot the data (first layer)\n",
    "im1 = m.pcolormesh(xx, yy, data[0,:,:].T, cmap=plt.cm.jet)\n",
    "\n",
    "# annotate\n",
    "m.drawcountries()\n",
    "m.drawcoastlines(linewidth=.5)\n",
    "\n",
    "plt.savefig('world.png',dpi=75)"
   ]
  }
 ],
 "metadata": {
  "jupytext": {
   "formats": "ipynb,py:percent"
  },
  "kernelspec": {
   "display_name": "Python 3",
   "language": "python",
   "name": "python3"
  },
  "language_info": {
   "codemirror_mode": {
    "name": "ipython",
    "version": 3
   },
   "file_extension": ".py",
   "mimetype": "text/x-python",
   "name": "python",
   "nbconvert_exporter": "python",
   "pygments_lexer": "ipython3",
   "version": "3.8.1"
  }
 },
 "nbformat": 4,
 "nbformat_minor": 4
}
